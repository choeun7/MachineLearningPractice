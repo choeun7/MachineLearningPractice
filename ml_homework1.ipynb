{
  "nbformat": 4,
  "nbformat_minor": 0,
  "metadata": {
    "colab": {
      "provenance": []
    },
    "kernelspec": {
      "name": "python3",
      "display_name": "Python 3"
    },
    "language_info": {
      "name": "python"
    }
  },
  "cells": [
    {
      "cell_type": "markdown",
      "source": [
        "## Homework 1\n",
        "\n",
        "**2015년도 1인당 GDP와 삶의 만족도 데이터를 이용**하여 특정 국가의 1인당 GDP가 주어졌을 때 그 국가의 삶의 만족도를 예측하는 선형회귀 모델을 훈련시켜보세요.\n",
        "\n",
        "**과제1 구현 요구사항**\n",
        "\n",
        "\n",
        "*   훈련 샘플들에 대한 scatter plot과 훈련된 선형회귀 모델의 plot이 포함된 그래프를 그리세요.\n",
        "*   gdp_per_capita.csv 파일에서 \"South Korea\" 2015년 1인당 GDP 값이 결측치입니다. 이 결측치는 2010~2014년 South Korea 1인당 GDP 값들의 median으로 채우세요.\n",
        "*   훈련된 선형회귀 모델을 이용하여 Cyprus 2015년 1인당 GDP 값을 입력으로 삶의 만족도 지수를 예측해보세요. 그리고 모델의 예측 값과 실제 Cyprus 2015년 life satisfaction 값을 비교해보세요.\n",
        "\n",
        "\n",
        "**제출 결과물:** 본인이 작성한 코드 및 코드에 대한 설명이 기술된 .ipynb 파일을 제출하세요."
      ],
      "metadata": {
        "id": "2hJoP24bkMvY"
      }
    },
    {
      "cell_type": "markdown",
      "source": [
        "2015년도 데이터에 대한 gdp_per_capita.csv와 oecd_bli_2015.csv 데이터 파일을 다운 받기 위한 구글 드라이브 공유 링크는 다음과 같다."
      ],
      "metadata": {
        "id": "eo0Hp0D0imcZ"
      }
    },
    {
      "cell_type": "code",
      "source": [
        "gdp_per_capita_url = \"https://drive.google.com/file/d/1-IBuM27Yjveq7TcdgxUE3jKYA_5E5BND/view?usp=sharing\" # gdp_per_capita.csv 공유링크\n",
        "oecd_bli_2015_url = \"https://drive.google.com/file/d/1-Hr5ptxnhwbC5iLSqwK3eV3ZiHUIRHPy/view?usp=sharing\" # oecd_bli_2015.csv 공유링크"
      ],
      "metadata": {
        "id": "_sUMUacnSob4"
      },
      "execution_count": null,
      "outputs": []
    },
    {
      "cell_type": "markdown",
      "source": [
        "아래 셀의 주석 처리된 코드를 이용하여 구글 드라이브로부터 gdp_per_capita.csv 파일을 다운 받아 데이터프레임으로 로딩할 수 있습니다."
      ],
      "metadata": {
        "id": "1F8BpFomi8ci"
      }
    },
    {
      "cell_type": "code",
      "source": [
        "# import sys\n",
        "# assert sys.version_info >= (3, 7), \"Python 3.7 이상이어야 함\"\n",
        "\n",
        "# import numpy as np\n",
        "# import pandas as pd\n",
        "\n",
        "gdp_per_capita_filepath = \"https://drive.google.com/uc?id=\" + gdp_per_capita_url.split('/')[-2]\n",
        "# gdp_per_capita = pd.read_csv(gdp_per_capita_filepath, \n",
        "#                              thousands=',',\n",
        "#                              encoding='latin1', \n",
        "#                              na_values=\"n/a\")"
      ],
      "metadata": {
        "id": "SCAgNLvvTVtO"
      },
      "execution_count": null,
      "outputs": []
    },
    {
      "cell_type": "markdown",
      "source": [
        "마찬가지로 다음 셀의 주석 처리된 코드를 이용하여 구글 드라이브로부터 oecd_bli_2015.csv 파일을 다운 받아 데이터프레임으로 로딩할 수 있습니다."
      ],
      "metadata": {
        "id": "m8_sSnc3jUp3"
      }
    },
    {
      "cell_type": "code",
      "source": [
        "oecd_bli_2015_filepath = \"https://drive.google.com/uc?id=\" + oecd_bli_2015_url.split('/')[-2]\n",
        "# oecd_bli_2015 = pd.read_csv(oecd_bli_2015_filepath, thousands=',')"
      ],
      "metadata": {
        "id": "2tLR7E37UIij"
      },
      "execution_count": null,
      "outputs": []
    }
  ]
}