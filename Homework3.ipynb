{
  "nbformat": 4,
  "nbformat_minor": 0,
  "metadata": {
    "colab": {
      "provenance": []
    },
    "kernelspec": {
      "name": "python3",
      "display_name": "Python 3"
    },
    "language_info": {
      "name": "python"
    }
  },
  "cells": [
    {
      "cell_type": "markdown",
      "source": [
        "**MNIST 데이터셋에 대한 실습 내용을 토대로 다음 과제3을 수행하세요. 수업 중 다룬 실습 내용의 코드 중 필요한 코드를 가져다 추가하시기 바랍니다.**\n",
        "\n",
        "**제출 결과물:** <font color=\"red\"> 본인이 작성한 코드 및 실행 결과를 통해 관찰한 내용이 기술된 .ipynb 파일을 제출하세요 </font>(**파일명: 학번.ipynb**). <font color=\"red\"> 과제 평가 시 확인할 수 있도록 반드시 실행결과가 저장된 상태의 .ipynb 파일을 제출해야 합니다. </font>"
      ],
      "metadata": {
        "id": "wkimqyvzai73"
      }
    },
    {
      "cell_type": "markdown",
      "source": [
        "**문제:** `scipy.ndimage` 모듈의 `shift()` 함수를 사용하여 MNIST 데이터셋의 주어진 이미지를 원하는 방향(왼쪽, 오른쪽, 위, 아래)으로 1픽셀만큼 이동시킬 수 있는 함수를 구현하세요. 예를 들어 `shift(image, [2, 1], cval=0)`는 주어진 image를 2픽셀만큼 아래로, 1픽셀만큼 오른쪽으로 이동시킵니다. 그런 다음 훈련셋의 각 이미지에 대해 상하좌우 각 방향 당 하나씩 4개의 이동된 복사본을 만들어 훈련셋에 추가합니다. 이와 같은 방식으로 훈련셋을 확장하는 것을 data augmentation이라고 합니다. 이렇게 확장된 훈련셋에는 6만개(원본)+24만개=30만개 이미지들이 포함됩니다. 이렇게 확장된 훈련셋을 이용하여 KNN classifier 모델을 훈련하고 테스트셋으로 훈련된 모델의 accuracy를 측정해보세요. 그리고 data augmentation 적용 전 원래의 훈련셋(6만개 이미지)으로 훈련시킨 KNN classifier 모델과 동일한 테스트셋에 대한 accuracy를 비교해보세요. 본인이 작성한 코드 실행 결과를 통해 관찰한 내용을 기술하시기 바랍니다.\n",
        "\n",
        "* `KNeighborsClassifier` 객체 생성 시 다음 코드를 사용하세요: `KNeighborsClassifier(weights='distance', n_neighbors=4)`\n",
        "* 테스트셋에 대해서는 data augmentation을 적용할 필요 없습니다."
      ],
      "metadata": {
        "id": "0nDm76OdbC-J"
      }
    }
  ]
}